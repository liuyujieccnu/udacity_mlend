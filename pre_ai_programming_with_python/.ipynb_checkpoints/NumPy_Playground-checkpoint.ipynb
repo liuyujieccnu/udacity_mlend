{
 "cells": [
  {
   "cell_type": "code",
   "execution_count": 1,
   "metadata": {},
   "outputs": [
    {
     "name": "stdout",
     "output_type": "stream",
     "text": [
      "[1 2 3 4 5]\n",
      "<class 'numpy.ndarray'>\n"
     ]
    }
   ],
   "source": [
    "import numpy as np\n",
    "\n",
    "# 借助Python常规列表等类数组对象进行创建\n",
    "\n",
    "x=np.array([1,2,3,4,5]) # 用Python列表生成的1维数组\n",
    "\n",
    "print(x)\n",
    "print(type(x)) # 类型就是NumPy的N维数组"
   ]
  },
  {
   "cell_type": "code",
   "execution_count": 2,
   "metadata": {},
   "outputs": [
    {
     "data": {
      "text/plain": [
       "dtype('int64')"
      ]
     },
     "execution_count": 2,
     "metadata": {},
     "output_type": "execute_result"
    }
   ],
   "source": [
    "x.dtype # 返回数组元素的数据类型"
   ]
  },
  {
   "cell_type": "markdown",
   "metadata": {},
   "source": [
    "[NumPy数据类型](https://docs.scipy.org/doc/numpy-1.13.0/user/basics.types.html)"
   ]
  },
  {
   "cell_type": "code",
   "execution_count": 3,
   "metadata": {},
   "outputs": [
    {
     "data": {
      "text/plain": [
       "(5,)"
      ]
     },
     "execution_count": 3,
     "metadata": {},
     "output_type": "execute_result"
    }
   ],
   "source": [
    "x.shape # 属性是有n个正整数组成的元组"
   ]
  },
  {
   "cell_type": "code",
   "execution_count": 5,
   "metadata": {},
   "outputs": [
    {
     "name": "stdout",
     "output_type": "stream",
     "text": [
      "[[ 1  2  3]\n",
      " [ 4  5  6]\n",
      " [ 7  8  9]\n",
      " [10 11 12]\n",
      " [13 14 15]]\n"
     ]
    }
   ],
   "source": [
    "Y = np.array([[1,2,3],[4,5,6],[7,8,9],[10,11,12],[13,14,15]])\n",
    "print(Y)"
   ]
  },
  {
   "cell_type": "code",
   "execution_count": 6,
   "metadata": {
    "scrolled": true
   },
   "outputs": [
    {
     "data": {
      "text/plain": [
       "(5, 3)"
      ]
     },
     "execution_count": 6,
     "metadata": {},
     "output_type": "execute_result"
    }
   ],
   "source": [
    "Y.shape"
   ]
  },
  {
   "cell_type": "code",
   "execution_count": 7,
   "metadata": {},
   "outputs": [
    {
     "data": {
      "text/plain": [
       "15"
      ]
     },
     "execution_count": 7,
     "metadata": {},
     "output_type": "execute_result"
    }
   ],
   "source": [
    "Y.size"
   ]
  },
  {
   "cell_type": "code",
   "execution_count": 8,
   "metadata": {},
   "outputs": [
    {
     "name": "stdout",
     "output_type": "stream",
     "text": [
      "['Hello' 'World']\n"
     ]
    }
   ],
   "source": [
    "#n维数组有Rank n\n",
    "x = np.array(['Hello','World'])\n",
    "print(x)"
   ]
  },
  {
   "cell_type": "code",
   "execution_count": 9,
   "metadata": {},
   "outputs": [
    {
     "name": "stdout",
     "output_type": "stream",
     "text": [
      "shape: (2,)\n",
      "type <class 'numpy.ndarray'>\n",
      "dtype <U5\n"
     ]
    }
   ],
   "source": [
    "print(\"shape:\",x.shape)\n",
    "print(\"type\",type(x))\n",
    "print(\"dtype\",x.dtype)"
   ]
  },
  {
   "cell_type": "code",
   "execution_count": 10,
   "metadata": {},
   "outputs": [
    {
     "name": "stdout",
     "output_type": "stream",
     "text": [
      "['1' '2' 'Hello' 'World']\n",
      "shape: (4,)\n",
      "type <class 'numpy.ndarray'>\n",
      "dtype <U21\n"
     ]
    }
   ],
   "source": [
    "# Numpy数据类型必须一致\n",
    "x = np.array([1,2,'Hello','World'])\n",
    "print(x)\n",
    "print(\"shape:\",x.shape)\n",
    "print(\"type\",type(x))\n",
    "print(\"dtype\",x.dtype)"
   ]
  },
  {
   "cell_type": "code",
   "execution_count": 14,
   "metadata": {},
   "outputs": [
    {
     "name": "stdout",
     "output_type": "stream",
     "text": [
      "[1.  2.5 4. ] \n",
      " float64\n"
     ]
    }
   ],
   "source": [
    "# 自动向上转型\n",
    "x=np.array([1,2.5,4])\n",
    "print(x,'\\n',x.dtype)"
   ]
  },
  {
   "cell_type": "code",
   "execution_count": 15,
   "metadata": {},
   "outputs": [
    {
     "name": "stdout",
     "output_type": "stream",
     "text": [
      "[1 2 4] \n",
      " int64\n"
     ]
    }
   ],
   "source": [
    "# 指定元素类型\n",
    "x=np.array([1,2.5,4.5],dtype=np.int64)\n",
    "print(x,'\\n',x.dtype)"
   ]
  },
  {
   "cell_type": "code",
   "execution_count": 16,
   "metadata": {},
   "outputs": [],
   "source": [
    "# Numpy存储文件到文档my_array.npy中\n",
    "x=np.array([1,2,3,4,5])\n",
    "np.save('my_array',x)"
   ]
  },
  {
   "cell_type": "code",
   "execution_count": 17,
   "metadata": {},
   "outputs": [
    {
     "name": "stdout",
     "output_type": "stream",
     "text": [
      "[1 2 3 4 5]\n"
     ]
    }
   ],
   "source": [
    "# 加载npy文件\n",
    "y = np.load('my_array.npy')\n",
    "print(y)"
   ]
  },
  {
   "cell_type": "code",
   "execution_count": 20,
   "metadata": {},
   "outputs": [
    {
     "name": "stdout",
     "output_type": "stream",
     "text": [
      "[[0 0 0 0]\n",
      " [0 0 0 0]\n",
      " [0 0 0 0]]\n"
     ]
    }
   ],
   "source": [
    "#使用NumPy快速生成特定类型的数组\n",
    "#使用内置函数创建ndarrays\n",
    "\n",
    "#生成指定形状的全0NumPy数组\n",
    "X=np.zeros((3,4),dtype=np.int64)\n",
    "print(X)"
   ]
  },
  {
   "cell_type": "code",
   "execution_count": 22,
   "metadata": {},
   "outputs": [
    {
     "name": "stdout",
     "output_type": "stream",
     "text": [
      "[[1. 1. 1. 1. 1.]\n",
      " [1. 1. 1. 1. 1.]\n",
      " [1. 1. 1. 1. 1.]\n",
      " [1. 1. 1. 1. 1.]]\n"
     ]
    }
   ],
   "source": [
    "# 生成由1组成的Numpy数组\n",
    "X=np.ones((4,5))\n",
    "print(X)"
   ]
  },
  {
   "cell_type": "code",
   "execution_count": 24,
   "metadata": {},
   "outputs": [
    {
     "name": "stdout",
     "output_type": "stream",
     "text": [
      "[[5 5 5]\n",
      " [5 5 5]\n",
      " [5 5 5]\n",
      " [5 5 5]]\n",
      "int64\n",
      "[[5. 5. 5.]\n",
      " [5. 5. 5.]\n",
      " [5. 5. 5.]\n",
      " [5. 5. 5.]]\n",
      "float64\n"
     ]
    }
   ],
   "source": [
    "#生成填充任意数字\n",
    "X=np.full((4,3),5)\n",
    "print(X)\n",
    "print(X.dtype)\n",
    "X=np.full((4,3),5.0)\n",
    "print(X)\n",
    "print(X.dtype)"
   ]
  },
  {
   "cell_type": "code",
   "execution_count": 27,
   "metadata": {},
   "outputs": [
    {
     "name": "stdout",
     "output_type": "stream",
     "text": [
      "[[1. 0. 0. 0. 0.]\n",
      " [0. 1. 0. 0. 0.]\n",
      " [0. 0. 1. 0. 0.]\n",
      " [0. 0. 0. 1. 0.]\n",
      " [0. 0. 0. 0. 1.]]\n",
      "float64\n"
     ]
    }
   ],
   "source": [
    "#创建单位矩阵（对角矩阵）\n",
    "X=np.eye(5) #矩阵指定的单位矩阵的维数\n",
    "print(X)\n",
    "print(X.dtype)"
   ]
  },
  {
   "cell_type": "code",
   "execution_count": 28,
   "metadata": {},
   "outputs": [
    {
     "name": "stdout",
     "output_type": "stream",
     "text": [
      "[[10  0  0  0]\n",
      " [ 0 20  0  0]\n",
      " [ 0  0 40  0]\n",
      " [ 0  0  0 50]]\n",
      "int64\n"
     ]
    }
   ],
   "source": [
    "# 生成对角矩阵\n",
    "X=np.diag([10,20,40,50])\n",
    "print(X)\n",
    "print(X.dtype)"
   ]
  },
  {
   "cell_type": "code",
   "execution_count": 29,
   "metadata": {},
   "outputs": [
    {
     "name": "stdout",
     "output_type": "stream",
     "text": [
      "[10 12 14 16 18 20]\n",
      "int64\n"
     ]
    }
   ],
   "source": [
    "#创建给定区间的等差数组\n",
    "X=np.arange(10,21,2) #起始值，终止值，步长\n",
    "print(X)\n",
    "print(X.dtype)"
   ]
  },
  {
   "cell_type": "code",
   "execution_count": 32,
   "metadata": {},
   "outputs": [
    {
     "name": "stdout",
     "output_type": "stream",
     "text": [
      "[1.2   2.025 2.85  3.675 4.5   5.325 6.15  6.975]\n",
      "float64\n"
     ]
    }
   ],
   "source": [
    "# 浮点数等差数组\n",
    "x= np.linspace(1.2,7.8,8,endpoint=False) #包含起始值和终止值，最后参数为包含的数的个数\n",
    "print(x)\n",
    "print(x.dtype)"
   ]
  },
  {
   "cell_type": "code",
   "execution_count": 36,
   "metadata": {},
   "outputs": [
    {
     "name": "stdout",
     "output_type": "stream",
     "text": [
      "[ 0  2  4  6  8 10 12 14 16 18]\n",
      "[[ 0  2  4  6  8]\n",
      " [10 12 14 16 18]]\n"
     ]
    }
   ],
   "source": [
    "#更改数组形状\n",
    "x = np.arange(0,20,2)\n",
    "print(x)\n",
    "x = np.reshape(x,(2,5))#元素数目需要匹配\n",
    "print(x)"
   ]
  },
  {
   "cell_type": "code",
   "execution_count": 37,
   "metadata": {},
   "outputs": [
    {
     "name": "stdout",
     "output_type": "stream",
     "text": [
      "[[ 0.  5.]\n",
      " [10. 15.]\n",
      " [20. 25.]\n",
      " [30. 35.]\n",
      " [40. 45.]]\n"
     ]
    }
   ],
   "source": [
    "x=np.linspace(0,50,10,endpoint=False).reshape(5,2)\n",
    "print(x)"
   ]
  },
  {
   "cell_type": "code",
   "execution_count": 39,
   "metadata": {},
   "outputs": [
    {
     "name": "stdout",
     "output_type": "stream",
     "text": [
      "[[0.77638174 0.57646303 0.57434799]\n",
      " [0.36141693 0.77090004 0.24991407]\n",
      " [0.46227344 0.92285379 0.29043266]]\n"
     ]
    }
   ],
   "source": [
    "#生成0到1之间的随机数组\n",
    "x=np.random.random((3,3))\n",
    "print(x)"
   ]
  },
  {
   "cell_type": "code",
   "execution_count": 40,
   "metadata": {},
   "outputs": [
    {
     "name": "stdout",
     "output_type": "stream",
     "text": [
      "[[ 6  8]\n",
      " [10  7]\n",
      " [ 9 11]]\n"
     ]
    }
   ],
   "source": [
    "#其他随机数组\n",
    "x=np.random.randint(4,15,(3,2))\n",
    "print(x)"
   ]
  },
  {
   "cell_type": "code",
   "execution_count": 43,
   "metadata": {},
   "outputs": [
    {
     "name": "stdout",
     "output_type": "stream",
     "text": [
      "[[-0.11528447  0.043138    0.15941666 ... -0.14889449 -0.07171681\n",
      "   0.05101564]\n",
      " [ 0.04894074 -0.0620809   0.06599738 ... -0.05261497 -0.14763127\n",
      "   0.12189674]\n",
      " [-0.09170673  0.26914837  0.01757035 ...  0.00880355  0.09219934\n",
      "  -0.06025571]\n",
      " ...\n",
      " [-0.12479971 -0.05222424 -0.0101185  ... -0.03635352  0.00581699\n",
      "  -0.02787781]\n",
      " [-0.08957917 -0.14800412  0.11369947 ...  0.06721632  0.10980413\n",
      "   0.04452564]\n",
      " [ 0.01046866 -0.01040336 -0.02185286 ...  0.06890117  0.03739817\n",
      "  -0.01951212]]\n"
     ]
    }
   ],
   "source": [
    "#创建给定均值和正态分布的随机数组\n",
    "X=np.random.normal(0,0.1,size=(1000,1000)) #1000X1000,标准差为0.1正态分布，平均值为0\n",
    "print(X)"
   ]
  },
  {
   "cell_type": "code",
   "execution_count": 44,
   "metadata": {},
   "outputs": [
    {
     "name": "stdout",
     "output_type": "stream",
     "text": [
      "-8.628457900058115e-05 \n",
      " 0.09990501591549433 \n",
      " 0.4824524708780503 \n",
      " -0.49649057302722954\n"
     ]
    }
   ],
   "source": [
    "print(X.mean(),'\\n',X.std(),'\\n',X.max(),'\\n',X.min())"
   ]
  },
  {
   "cell_type": "markdown",
   "metadata": {},
   "source": [
    "## Quiz-1"
   ]
  },
  {
   "cell_type": "code",
   "execution_count": 46,
   "metadata": {},
   "outputs": [
    {
     "name": "stdout",
     "output_type": "stream",
     "text": [
      "[[ 2.  4.  6.  8.]\n",
      " [10. 12. 14. 16.]\n",
      " [18. 20. 22. 24.]\n",
      " [26. 28. 30. 32.]]\n"
     ]
    }
   ],
   "source": [
    "x = np.linspace(2,32,16).reshape(4,4)\n",
    "print(x)"
   ]
  },
  {
   "cell_type": "markdown",
   "metadata": {},
   "source": [
    "# Accessing, Deleting, and Inserting Elements Into ndarrays"
   ]
  },
  {
   "cell_type": "code",
   "execution_count": 47,
   "metadata": {},
   "outputs": [
    {
     "name": "stdout",
     "output_type": "stream",
     "text": [
      "[1 2 3 4 5]\n"
     ]
    }
   ],
   "source": [
    "# Numpy可更改，可以有不同的切片，获取任意数组子集，用于分离数据\n",
    "x=np.arange(1,6)\n",
    "print(x)"
   ]
  },
  {
   "cell_type": "code",
   "execution_count": 49,
   "metadata": {},
   "outputs": [
    {
     "name": "stdout",
     "output_type": "stream",
     "text": [
      "1\n",
      "5\n"
     ]
    }
   ],
   "source": [
    "print(x[0])\n",
    "print(x[-1])"
   ]
  },
  {
   "cell_type": "code",
   "execution_count": 50,
   "metadata": {},
   "outputs": [
    {
     "name": "stdout",
     "output_type": "stream",
     "text": [
      "[ 1  2  3 20  5]\n"
     ]
    }
   ],
   "source": [
    "#直接访问修改\n",
    "x[3]=20\n",
    "print(x)"
   ]
  },
  {
   "cell_type": "code",
   "execution_count": 55,
   "metadata": {},
   "outputs": [
    {
     "name": "stdout",
     "output_type": "stream",
     "text": [
      "[[1. 2. 3.]\n",
      " [4. 5. 6.]\n",
      " [7. 8. 9.]]\n"
     ]
    }
   ],
   "source": [
    "x=np.linspace(1,9,9).reshape(3,3)\n",
    "print(x)"
   ]
  },
  {
   "cell_type": "code",
   "execution_count": 56,
   "metadata": {},
   "outputs": [
    {
     "name": "stdout",
     "output_type": "stream",
     "text": [
      "8.0\n"
     ]
    }
   ],
   "source": [
    "print(x[2,1])"
   ]
  },
  {
   "cell_type": "code",
   "execution_count": 57,
   "metadata": {},
   "outputs": [
    {
     "name": "stdout",
     "output_type": "stream",
     "text": [
      "[[ 1.  2.  3.]\n",
      " [ 4.  5.  6.]\n",
      " [ 7. 18.  9.]]\n"
     ]
    }
   ],
   "source": [
    "x[2,1]=18\n",
    "print(x)"
   ]
  },
  {
   "cell_type": "code",
   "execution_count": 58,
   "metadata": {},
   "outputs": [
    {
     "name": "stdout",
     "output_type": "stream",
     "text": [
      "[2 3 5]\n"
     ]
    }
   ],
   "source": [
    "#删除元素\n",
    "#删除的列表和删除的轴\n",
    "x = np.array([1,2,3,4,5])\n",
    "x = np.delete(x,[0,3])\n",
    "print(x)"
   ]
  },
  {
   "cell_type": "code",
   "execution_count": 59,
   "metadata": {},
   "outputs": [
    {
     "name": "stdout",
     "output_type": "stream",
     "text": [
      "[[1 2 3]\n",
      " [4 5 6]\n",
      " [7 8 9]]\n",
      "[[4 5 6]\n",
      " [7 8 9]]\n",
      "[[1 2]\n",
      " [4 5]\n",
      " [7 8]]\n"
     ]
    }
   ],
   "source": [
    "y=np.arange(1,10).reshape(3,3)\n",
    "print(y)\n",
    "\n",
    "w=np.delete(y,0,axis=0) #删除的轴0为第一维度，二维的行，1为列\n",
    "print(w)\n",
    "\n",
    "v=np.delete(y,2,axis=1)\n",
    "print(v)"
   ]
  },
  {
   "cell_type": "code",
   "execution_count": 60,
   "metadata": {},
   "outputs": [
    {
     "name": "stdout",
     "output_type": "stream",
     "text": [
      "[1 2 3 4 5 6]\n"
     ]
    }
   ],
   "source": [
    "#append追加元素\n",
    "x=np.array([1,2,3,4,5])\n",
    "x=np.append(x,6)\n",
    "print(x)"
   ]
  },
  {
   "cell_type": "code",
   "execution_count": 61,
   "metadata": {},
   "outputs": [
    {
     "name": "stdout",
     "output_type": "stream",
     "text": [
      "[1 2 3 4 5 6 7 8]\n"
     ]
    }
   ],
   "source": [
    "x=np.append(x,[7,8])\n",
    "print(x)"
   ]
  },
  {
   "cell_type": "code",
   "execution_count": 62,
   "metadata": {},
   "outputs": [
    {
     "name": "stdout",
     "output_type": "stream",
     "text": [
      "[[ 1  2  3]\n",
      " [ 4  5  6]\n",
      " [ 7  8  9]\n",
      " [10 11 12]]\n"
     ]
    }
   ],
   "source": [
    "y=np.arange(1,10).reshape(3,3)\n",
    "w=np.append(y,[[10,11,12]],axis=0)\n",
    "print(w)"
   ]
  },
  {
   "cell_type": "code",
   "execution_count": 63,
   "metadata": {},
   "outputs": [
    {
     "name": "stdout",
     "output_type": "stream",
     "text": [
      "[[ 1  2  3 10]\n",
      " [ 4  5  6 11]\n",
      " [ 7  8  9 12]]\n"
     ]
    }
   ],
   "source": [
    "z=np.append(y,[[10],[11],[12]],axis=1)\n",
    "print(z)"
   ]
  },
  {
   "cell_type": "code",
   "execution_count": 64,
   "metadata": {},
   "outputs": [
    {
     "name": "stdout",
     "output_type": "stream",
     "text": [
      "[ 1  2 33 34  3  4  5  6  7  8]\n"
     ]
    }
   ],
   "source": [
    "#插入，参数：索引、元素、轴\n",
    "x = np.insert(x,2,[33,34])\n",
    "print(x)"
   ]
  },
  {
   "cell_type": "code",
   "execution_count": 65,
   "metadata": {},
   "outputs": [
    {
     "name": "stdout",
     "output_type": "stream",
     "text": [
      "[[ 1  2  3]\n",
      " [ 4  5  6]\n",
      " [33 34 35]\n",
      " [ 7  8  9]]\n"
     ]
    }
   ],
   "source": [
    "w=np.insert(y,2,[33,34,35],axis=0)\n",
    "print(w)"
   ]
  },
  {
   "cell_type": "code",
   "execution_count": 66,
   "metadata": {},
   "outputs": [
    {
     "name": "stdout",
     "output_type": "stream",
     "text": [
      "[[ 1  2 33  3]\n",
      " [ 4  5 33  6]\n",
      " [ 7  8 33  9]]\n"
     ]
    }
   ],
   "source": [
    "v=np.insert(y,2,33,axis=1)\n",
    "print(v)"
   ]
  },
  {
   "cell_type": "code",
   "execution_count": 67,
   "metadata": {},
   "outputs": [
    {
     "name": "stdout",
     "output_type": "stream",
     "text": [
      "[[ 1  2  3]\n",
      " [ 4  5  6]\n",
      " [33 34 35]\n",
      " [ 7  8  9]\n",
      " [ 1  2  3]\n",
      " [ 4  5  6]\n",
      " [ 7  8  9]]\n"
     ]
    }
   ],
   "source": [
    "z=np.vstack((w,y))#堆叠可以垂直堆叠也可以水平堆叠，但是相应的数要匹配\n",
    "print(z)"
   ]
  },
  {
   "cell_type": "code",
   "execution_count": 68,
   "metadata": {},
   "outputs": [
    {
     "name": "stdout",
     "output_type": "stream",
     "text": [
      "[[ 1  2 33  3  1  2  3]\n",
      " [ 4  5 33  6  4  5  6]\n",
      " [ 7  8 33  9  7  8  9]]\n"
     ]
    }
   ],
   "source": [
    "z=np.hstack((v,y))#堆叠可以垂直堆叠也可以水平堆叠，但是相应的数要匹配\n",
    "print(z)"
   ]
  },
  {
   "cell_type": "code",
   "execution_count": null,
   "metadata": {},
   "outputs": [],
   "source": []
  }
 ],
 "metadata": {
  "kernelspec": {
   "display_name": "Python 3",
   "language": "python",
   "name": "python3"
  },
  "language_info": {
   "codemirror_mode": {
    "name": "ipython",
    "version": 3
   },
   "file_extension": ".py",
   "mimetype": "text/x-python",
   "name": "python",
   "nbconvert_exporter": "python",
   "pygments_lexer": "ipython3",
   "version": "3.6.9"
  }
 },
 "nbformat": 4,
 "nbformat_minor": 2
}
